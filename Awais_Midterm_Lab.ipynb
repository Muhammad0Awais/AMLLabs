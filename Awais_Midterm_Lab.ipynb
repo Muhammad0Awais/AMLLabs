{
  "nbformat": 4,
  "nbformat_minor": 5,
  "metadata": {
    "accelerator": "GPU",
    "colab": {
      "name": "Awais_Midterm_Lab.ipynb",
      "provenance": [],
      "collapsed_sections": [],
      "toc_visible": true,
      "include_colab_link": true
    },
    "kernelspec": {
      "display_name": "Python 3",
      "language": "python",
      "name": "python3"
    },
    "language_info": {
      "codemirror_mode": {
        "name": "ipython",
        "version": 3
      },
      "file_extension": ".py",
      "mimetype": "text/x-python",
      "name": "python",
      "nbconvert_exporter": "python",
      "pygments_lexer": "ipython3",
      "version": "3.8.5"
    },
    "widgets": {
      "application/vnd.jupyter.widget-state+json": {
        "3e0ce1cd4b494102aa135a9727e6d53b": {
          "model_module": "@jupyter-widgets/controls",
          "model_name": "HBoxModel",
          "state": {
            "_view_name": "HBoxView",
            "_dom_classes": [],
            "_model_name": "HBoxModel",
            "_view_module": "@jupyter-widgets/controls",
            "_model_module_version": "1.5.0",
            "_view_count": null,
            "_view_module_version": "1.5.0",
            "box_style": "",
            "layout": "IPY_MODEL_83f7d348479c4df085168183b72cb419",
            "_model_module": "@jupyter-widgets/controls",
            "children": [
              "IPY_MODEL_946854c2836949bea7e819d022858428",
              "IPY_MODEL_91ed716ee495405a95b096cdee1530d7"
            ]
          }
        },
        "83f7d348479c4df085168183b72cb419": {
          "model_module": "@jupyter-widgets/base",
          "model_name": "LayoutModel",
          "state": {
            "_view_name": "LayoutView",
            "grid_template_rows": null,
            "right": null,
            "justify_content": null,
            "_view_module": "@jupyter-widgets/base",
            "overflow": null,
            "_model_module_version": "1.2.0",
            "_view_count": null,
            "flex_flow": null,
            "width": null,
            "min_width": null,
            "border": null,
            "align_items": null,
            "bottom": null,
            "_model_module": "@jupyter-widgets/base",
            "top": null,
            "grid_column": null,
            "overflow_y": null,
            "overflow_x": null,
            "grid_auto_flow": null,
            "grid_area": null,
            "grid_template_columns": null,
            "flex": null,
            "_model_name": "LayoutModel",
            "justify_items": null,
            "grid_row": null,
            "max_height": null,
            "align_content": null,
            "visibility": null,
            "align_self": null,
            "height": null,
            "min_height": null,
            "padding": null,
            "grid_auto_rows": null,
            "grid_gap": null,
            "max_width": null,
            "order": null,
            "_view_module_version": "1.2.0",
            "grid_template_areas": null,
            "object_position": null,
            "object_fit": null,
            "grid_auto_columns": null,
            "margin": null,
            "display": null,
            "left": null
          }
        },
        "946854c2836949bea7e819d022858428": {
          "model_module": "@jupyter-widgets/controls",
          "model_name": "FloatProgressModel",
          "state": {
            "_view_name": "ProgressView",
            "style": "IPY_MODEL_271c5d6be8144bd7a800fbd13d77837d",
            "_dom_classes": [],
            "description": "",
            "_model_name": "FloatProgressModel",
            "bar_style": "success",
            "max": 170498071,
            "_view_module": "@jupyter-widgets/controls",
            "_model_module_version": "1.5.0",
            "value": 170498071,
            "_view_count": null,
            "_view_module_version": "1.5.0",
            "orientation": "horizontal",
            "min": 0,
            "description_tooltip": null,
            "_model_module": "@jupyter-widgets/controls",
            "layout": "IPY_MODEL_af30b6765e7c4144af64c90dc5822baf"
          }
        },
        "91ed716ee495405a95b096cdee1530d7": {
          "model_module": "@jupyter-widgets/controls",
          "model_name": "HTMLModel",
          "state": {
            "_view_name": "HTMLView",
            "style": "IPY_MODEL_f3109b72c4fc40bca7cbf99a0b2a9075",
            "_dom_classes": [],
            "description": "",
            "_model_name": "HTMLModel",
            "placeholder": "​",
            "_view_module": "@jupyter-widgets/controls",
            "_model_module_version": "1.5.0",
            "value": " 170499072/? [00:11&lt;00:00, 14230613.14it/s]",
            "_view_count": null,
            "_view_module_version": "1.5.0",
            "description_tooltip": null,
            "_model_module": "@jupyter-widgets/controls",
            "layout": "IPY_MODEL_9548a67878d146d392ee6ea6144b4e28"
          }
        },
        "271c5d6be8144bd7a800fbd13d77837d": {
          "model_module": "@jupyter-widgets/controls",
          "model_name": "ProgressStyleModel",
          "state": {
            "_view_name": "StyleView",
            "_model_name": "ProgressStyleModel",
            "description_width": "initial",
            "_view_module": "@jupyter-widgets/base",
            "_model_module_version": "1.5.0",
            "_view_count": null,
            "_view_module_version": "1.2.0",
            "bar_color": null,
            "_model_module": "@jupyter-widgets/controls"
          }
        },
        "af30b6765e7c4144af64c90dc5822baf": {
          "model_module": "@jupyter-widgets/base",
          "model_name": "LayoutModel",
          "state": {
            "_view_name": "LayoutView",
            "grid_template_rows": null,
            "right": null,
            "justify_content": null,
            "_view_module": "@jupyter-widgets/base",
            "overflow": null,
            "_model_module_version": "1.2.0",
            "_view_count": null,
            "flex_flow": null,
            "width": null,
            "min_width": null,
            "border": null,
            "align_items": null,
            "bottom": null,
            "_model_module": "@jupyter-widgets/base",
            "top": null,
            "grid_column": null,
            "overflow_y": null,
            "overflow_x": null,
            "grid_auto_flow": null,
            "grid_area": null,
            "grid_template_columns": null,
            "flex": null,
            "_model_name": "LayoutModel",
            "justify_items": null,
            "grid_row": null,
            "max_height": null,
            "align_content": null,
            "visibility": null,
            "align_self": null,
            "height": null,
            "min_height": null,
            "padding": null,
            "grid_auto_rows": null,
            "grid_gap": null,
            "max_width": null,
            "order": null,
            "_view_module_version": "1.2.0",
            "grid_template_areas": null,
            "object_position": null,
            "object_fit": null,
            "grid_auto_columns": null,
            "margin": null,
            "display": null,
            "left": null
          }
        },
        "f3109b72c4fc40bca7cbf99a0b2a9075": {
          "model_module": "@jupyter-widgets/controls",
          "model_name": "DescriptionStyleModel",
          "state": {
            "_view_name": "StyleView",
            "_model_name": "DescriptionStyleModel",
            "description_width": "",
            "_view_module": "@jupyter-widgets/base",
            "_model_module_version": "1.5.0",
            "_view_count": null,
            "_view_module_version": "1.2.0",
            "_model_module": "@jupyter-widgets/controls"
          }
        },
        "9548a67878d146d392ee6ea6144b4e28": {
          "model_module": "@jupyter-widgets/base",
          "model_name": "LayoutModel",
          "state": {
            "_view_name": "LayoutView",
            "grid_template_rows": null,
            "right": null,
            "justify_content": null,
            "_view_module": "@jupyter-widgets/base",
            "overflow": null,
            "_model_module_version": "1.2.0",
            "_view_count": null,
            "flex_flow": null,
            "width": null,
            "min_width": null,
            "border": null,
            "align_items": null,
            "bottom": null,
            "_model_module": "@jupyter-widgets/base",
            "top": null,
            "grid_column": null,
            "overflow_y": null,
            "overflow_x": null,
            "grid_auto_flow": null,
            "grid_area": null,
            "grid_template_columns": null,
            "flex": null,
            "_model_name": "LayoutModel",
            "justify_items": null,
            "grid_row": null,
            "max_height": null,
            "align_content": null,
            "visibility": null,
            "align_self": null,
            "height": null,
            "min_height": null,
            "padding": null,
            "grid_auto_rows": null,
            "grid_gap": null,
            "max_width": null,
            "order": null,
            "_view_module_version": "1.2.0",
            "grid_template_areas": null,
            "object_position": null,
            "object_fit": null,
            "grid_auto_columns": null,
            "margin": null,
            "display": null,
            "left": null
          }
        },
        "712fa83e4e664d5798147667fa8f79a3": {
          "model_module": "@jupyter-widgets/controls",
          "model_name": "HBoxModel",
          "state": {
            "_view_name": "HBoxView",
            "_dom_classes": [],
            "_model_name": "HBoxModel",
            "_view_module": "@jupyter-widgets/controls",
            "_model_module_version": "1.5.0",
            "_view_count": null,
            "_view_module_version": "1.5.0",
            "box_style": "",
            "layout": "IPY_MODEL_0593f84d704647b98830a8808078330c",
            "_model_module": "@jupyter-widgets/controls",
            "children": [
              "IPY_MODEL_f520b6e5bdb442cd93836cc2d5550232",
              "IPY_MODEL_280f8fcc18c44b78b112ea5f90564f13"
            ]
          }
        },
        "0593f84d704647b98830a8808078330c": {
          "model_module": "@jupyter-widgets/base",
          "model_name": "LayoutModel",
          "state": {
            "_view_name": "LayoutView",
            "grid_template_rows": null,
            "right": null,
            "justify_content": null,
            "_view_module": "@jupyter-widgets/base",
            "overflow": null,
            "_model_module_version": "1.2.0",
            "_view_count": null,
            "flex_flow": null,
            "width": null,
            "min_width": null,
            "border": null,
            "align_items": null,
            "bottom": null,
            "_model_module": "@jupyter-widgets/base",
            "top": null,
            "grid_column": null,
            "overflow_y": null,
            "overflow_x": null,
            "grid_auto_flow": null,
            "grid_area": null,
            "grid_template_columns": null,
            "flex": null,
            "_model_name": "LayoutModel",
            "justify_items": null,
            "grid_row": null,
            "max_height": null,
            "align_content": null,
            "visibility": null,
            "align_self": null,
            "height": null,
            "min_height": null,
            "padding": null,
            "grid_auto_rows": null,
            "grid_gap": null,
            "max_width": null,
            "order": null,
            "_view_module_version": "1.2.0",
            "grid_template_areas": null,
            "object_position": null,
            "object_fit": null,
            "grid_auto_columns": null,
            "margin": null,
            "display": null,
            "left": null
          }
        },
        "f520b6e5bdb442cd93836cc2d5550232": {
          "model_module": "@jupyter-widgets/controls",
          "model_name": "FloatProgressModel",
          "state": {
            "_view_name": "ProgressView",
            "style": "IPY_MODEL_6a0733c6702b4d8d9548e93bb0c78fa6",
            "_dom_classes": [],
            "description": "100%",
            "_model_name": "FloatProgressModel",
            "bar_style": "success",
            "max": 46827520,
            "_view_module": "@jupyter-widgets/controls",
            "_model_module_version": "1.5.0",
            "value": 46827520,
            "_view_count": null,
            "_view_module_version": "1.5.0",
            "orientation": "horizontal",
            "min": 0,
            "description_tooltip": null,
            "_model_module": "@jupyter-widgets/controls",
            "layout": "IPY_MODEL_88d94e7d468d473ea743fdfd71ad9523"
          }
        },
        "280f8fcc18c44b78b112ea5f90564f13": {
          "model_module": "@jupyter-widgets/controls",
          "model_name": "HTMLModel",
          "state": {
            "_view_name": "HTMLView",
            "style": "IPY_MODEL_ef5ccb79d7504f17a64b9095960f53a9",
            "_dom_classes": [],
            "description": "",
            "_model_name": "HTMLModel",
            "placeholder": "​",
            "_view_module": "@jupyter-widgets/controls",
            "_model_module_version": "1.5.0",
            "value": " 44.7M/44.7M [00:00&lt;00:00, 130MB/s]",
            "_view_count": null,
            "_view_module_version": "1.5.0",
            "description_tooltip": null,
            "_model_module": "@jupyter-widgets/controls",
            "layout": "IPY_MODEL_948212643bfd4b289aa5c8f88b151e10"
          }
        },
        "6a0733c6702b4d8d9548e93bb0c78fa6": {
          "model_module": "@jupyter-widgets/controls",
          "model_name": "ProgressStyleModel",
          "state": {
            "_view_name": "StyleView",
            "_model_name": "ProgressStyleModel",
            "description_width": "initial",
            "_view_module": "@jupyter-widgets/base",
            "_model_module_version": "1.5.0",
            "_view_count": null,
            "_view_module_version": "1.2.0",
            "bar_color": null,
            "_model_module": "@jupyter-widgets/controls"
          }
        },
        "88d94e7d468d473ea743fdfd71ad9523": {
          "model_module": "@jupyter-widgets/base",
          "model_name": "LayoutModel",
          "state": {
            "_view_name": "LayoutView",
            "grid_template_rows": null,
            "right": null,
            "justify_content": null,
            "_view_module": "@jupyter-widgets/base",
            "overflow": null,
            "_model_module_version": "1.2.0",
            "_view_count": null,
            "flex_flow": null,
            "width": null,
            "min_width": null,
            "border": null,
            "align_items": null,
            "bottom": null,
            "_model_module": "@jupyter-widgets/base",
            "top": null,
            "grid_column": null,
            "overflow_y": null,
            "overflow_x": null,
            "grid_auto_flow": null,
            "grid_area": null,
            "grid_template_columns": null,
            "flex": null,
            "_model_name": "LayoutModel",
            "justify_items": null,
            "grid_row": null,
            "max_height": null,
            "align_content": null,
            "visibility": null,
            "align_self": null,
            "height": null,
            "min_height": null,
            "padding": null,
            "grid_auto_rows": null,
            "grid_gap": null,
            "max_width": null,
            "order": null,
            "_view_module_version": "1.2.0",
            "grid_template_areas": null,
            "object_position": null,
            "object_fit": null,
            "grid_auto_columns": null,
            "margin": null,
            "display": null,
            "left": null
          }
        },
        "ef5ccb79d7504f17a64b9095960f53a9": {
          "model_module": "@jupyter-widgets/controls",
          "model_name": "DescriptionStyleModel",
          "state": {
            "_view_name": "StyleView",
            "_model_name": "DescriptionStyleModel",
            "description_width": "",
            "_view_module": "@jupyter-widgets/base",
            "_model_module_version": "1.5.0",
            "_view_count": null,
            "_view_module_version": "1.2.0",
            "_model_module": "@jupyter-widgets/controls"
          }
        },
        "948212643bfd4b289aa5c8f88b151e10": {
          "model_module": "@jupyter-widgets/base",
          "model_name": "LayoutModel",
          "state": {
            "_view_name": "LayoutView",
            "grid_template_rows": null,
            "right": null,
            "justify_content": null,
            "_view_module": "@jupyter-widgets/base",
            "overflow": null,
            "_model_module_version": "1.2.0",
            "_view_count": null,
            "flex_flow": null,
            "width": null,
            "min_width": null,
            "border": null,
            "align_items": null,
            "bottom": null,
            "_model_module": "@jupyter-widgets/base",
            "top": null,
            "grid_column": null,
            "overflow_y": null,
            "overflow_x": null,
            "grid_auto_flow": null,
            "grid_area": null,
            "grid_template_columns": null,
            "flex": null,
            "_model_name": "LayoutModel",
            "justify_items": null,
            "grid_row": null,
            "max_height": null,
            "align_content": null,
            "visibility": null,
            "align_self": null,
            "height": null,
            "min_height": null,
            "padding": null,
            "grid_auto_rows": null,
            "grid_gap": null,
            "max_width": null,
            "order": null,
            "_view_module_version": "1.2.0",
            "grid_template_areas": null,
            "object_position": null,
            "object_fit": null,
            "grid_auto_columns": null,
            "margin": null,
            "display": null,
            "left": null
          }
        }
      }
    }
  },
  "cells": [
    {
      "cell_type": "markdown",
      "metadata": {
        "id": "view-in-github",
        "colab_type": "text"
      },
      "source": [
        "<a href=\"https://colab.research.google.com/github/Muhammad0Awais/AMLLabs/blob/main/Awais_Midterm_Lab.ipynb\" target=\"_parent\"><img src=\"https://colab.research.google.com/assets/colab-badge.svg\" alt=\"Open In Colab\"/></a>"
      ]
    },
    {
      "cell_type": "markdown",
      "metadata": {
        "id": "horizontal-cylinder"
      },
      "source": [
        "## <center>Midterm Lab\n",
        "```\n",
        "- Advanced Machine Learning, Innopolis University \n",
        "- Professor: Muhammad Fahim \n",
        "- Teaching Assistant: Gcinizwe Dlamini\n",
        "```\n",
        "<hr>\n",
        "\n",
        "```\n",
        "Tasks:\n",
        "  1. Image Transform (5 points)\n",
        "  2. CNN model declaration (10 points)\n",
        "  3. CNN model training (5 points)\n",
        "  4. Transfer Learning or Viterbi algorithm : Bonus (5 points)\n",
        "```\n",
        "\n",
        "<hr>"
      ],
      "id": "horizontal-cylinder"
    },
    {
      "cell_type": "markdown",
      "metadata": {
        "id": "changed-demonstration"
      },
      "source": [
        "## The Dataset"
      ],
      "id": "changed-demonstration"
    },
    {
      "cell_type": "code",
      "metadata": {
        "id": "vietnamese-phase"
      },
      "source": [
        "import torch\n",
        "import torchvision\n",
        "import torchvision.transforms as transforms\n",
        "import torch.optim as optim\n",
        "\n",
        "import numpy as np\n",
        "\n",
        "device = torch.device(\"cuda:0\" if torch.cuda.is_available() else \"cpu\")"
      ],
      "id": "vietnamese-phase",
      "execution_count": 2,
      "outputs": []
    },
    {
      "cell_type": "markdown",
      "metadata": {
        "id": "pediatric-funeral"
      },
      "source": [
        "## Task 1 : Preprocessing of Dataset (5 points)\n",
        "\n",
        "1.   Create the transforms:\n",
        "    * Resize images to (32 * 32)\n",
        "    * Normalize every channel (mean and std of your choice)\n",
        "    * Apply one more data augmentation technique you know (i.e Rotation, translation, RandomErasing, RandomHorizontalFlip etc.)\n",
        "\n",
        "\n",
        "**Hint**: data augmentation techniques shouldn't be applied to the test dataset."
      ],
      "id": "pediatric-funeral"
    },
    {
      "cell_type": "code",
      "metadata": {
        "colab": {
          "base_uri": "https://localhost:8080/"
        },
        "id": "cardiac-acrobat",
        "outputId": "290ab99d-0676-4665-fefe-f11737d1fdb3"
      },
      "source": [
        "import random\n",
        "\n",
        "class RandomRotation(object):\n",
        "  def __init__(self):\n",
        "    self.degree = random.randrange(-90,90)\n",
        "  def __call__(self, img):\n",
        "    return img.rotate(self.degree)\n",
        "  \n",
        "transform_train = transforms.Compose([\n",
        "                transforms.Resize((32, 32)),\n",
        "                RandomRotation(),\n",
        "                transforms.ToTensor(),\n",
        "                \n",
        "                transforms.Normalize((0.5, 0.5, 0.5), (0.5, 0.5, 0.5)),\n",
        "            ])\n",
        "\n",
        "transform_test = None \n",
        "\n",
        "trainset = torchvision.datasets.SVHN(root='./data/train', split=\"train\", download=True, transform=transform_train)\n",
        "trainloader = torch.utils.data.DataLoader(trainset, batch_size=64, shuffle=True, num_workers=1)\n",
        "\n",
        "testset = torchvision.datasets.SVHN(root='./data/test', split=\"test\", download=True, transform=transform_test)\n",
        "testloader = torch.utils.data.DataLoader(testset, batch_size=64, shuffle=False, num_workers=1)\n",
        "\n",
        "classes = [f\"{i}\" for i in np.unique(trainset.labels)]"
      ],
      "id": "cardiac-acrobat",
      "execution_count": 5,
      "outputs": [
        {
          "output_type": "stream",
          "text": [
            "Using downloaded and verified file: ./data/train/train_32x32.mat\n",
            "Using downloaded and verified file: ./data/test/test_32x32.mat\n"
          ],
          "name": "stdout"
        }
      ]
    },
    {
      "cell_type": "code",
      "metadata": {
        "colab": {
          "base_uri": "https://localhost:8080/"
        },
        "id": "dNGO9yo4NEBZ",
        "outputId": "d3c9153d-1f19-4dea-a37f-7f187edfe5c9"
      },
      "source": [
        "unique, counts = np.unique(trainset.labels, return_counts=True)\n",
        "print(counts)"
      ],
      "id": "dNGO9yo4NEBZ",
      "execution_count": 23,
      "outputs": [
        {
          "output_type": "stream",
          "text": [
            "[ 4948 13861 10585  8497  7458  6882  5727  5595  5045  4659]\n"
          ],
          "name": "stdout"
        }
      ]
    },
    {
      "cell_type": "markdown",
      "metadata": {
        "id": "architectural-performance"
      },
      "source": [
        "## Task 1.1 Plot Classes distribution \n",
        "\n",
        "Plot the distribution of classes in the training sample on a bar graph"
      ],
      "id": "architectural-performance"
    },
    {
      "cell_type": "code",
      "metadata": {
        "colab": {
          "base_uri": "https://localhost:8080/",
          "height": 279
        },
        "id": "ancient-fourth",
        "outputId": "346ad6fe-b5e1-4d51-b025-552f90921dba"
      },
      "source": [
        "from matplotlib import pyplot as plt\n",
        "\n",
        "\n",
        "# histValues=[0]*10\n",
        "\n",
        "# for label in trainloader.dataset.labels:\n",
        "#   histValues[label] +=1\n",
        "\n",
        "# print(histValues)\n",
        "\n",
        "unique, counts = np.unique(trainset.labels, return_counts=True)\n",
        "\n",
        "# plt.hist(counts)\n",
        "plt.hist(counts, bins=15)  # density=False would make counts\n",
        "plt.ylabel('Probability')\n",
        "plt.xlabel('Data');\n",
        "# plt.hist()\n",
        "#TODO: Plot the distribution of classes"
      ],
      "id": "ancient-fourth",
      "execution_count": 34,
      "outputs": [
        {
          "output_type": "display_data",
          "data": {
            "image/png": "[encoded data removed]",
            "text/plain": [
              "<Figure size 432x288 with 1 Axes>"
            ]
          },
          "metadata": {
            "tags": [],
            "needs_background": "light"
          }
        }
      ]
    },
    {
      "cell_type": "code",
      "metadata": {
        "colab": {
          "base_uri": "https://localhost:8080/",
          "height": 269
        },
        "id": "split-chicken",
        "outputId": "224a93ff-65b6-491f-ba6a-bcfc677c8dcb"
      },
      "source": [
        "def to_img(x):\n",
        "    x = 0.5 * (x + 1)\n",
        "    x = x.clamp(0, 1)\n",
        "    x = x.view(x.size(0), 3, 32, 32)\n",
        "    return x\n",
        "\n",
        "# functions to show an image\n",
        "def imshow(img):\n",
        "    img = img / 2 + 0.5 # unnormalize\n",
        "    npimg = img.numpy()\n",
        "    plt.imshow(np.transpose(npimg, (1, 2, 0)))\n",
        "\n",
        "# sample a batch and show \n",
        "dataiter = iter(trainloader)\n",
        "images, labels = dataiter.next()\n",
        "\n",
        "imshow(torchvision.utils.make_grid(images))"
      ],
      "id": "split-chicken",
      "execution_count": 35,
      "outputs": [
        {
          "output_type": "display_data",
          "data": {
            "image/png": "[encoded data removed]",
            "text/plain": [
              "<Figure size 432x288 with 1 Axes>"
            ]
          },
          "metadata": {
            "tags": [],
            "needs_background": "light"
          }
        }
      ]
    },
    {
      "cell_type": "code",
      "metadata": {
        "colab": {
          "base_uri": "https://localhost:8080/"
        },
        "id": "uNnMXYmKOe9d",
        "outputId": "368ced19-67e4-452c-dacc-b996dda9b6db"
      },
      "source": [
        "device = torch.device(\"cuda:0\" if torch.cuda.is_available() else \"cpu\")\n",
        "\n",
        "# Assume that we are on a CUDA machine, then this should print a CUDA device:\n",
        "\n",
        "print(device)"
      ],
      "id": "uNnMXYmKOe9d",
      "execution_count": 36,
      "outputs": [
        {
          "output_type": "stream",
          "text": [
            "cuda:0\n"
          ],
          "name": "stdout"
        }
      ]
    },
    {
      "cell_type": "markdown",
      "metadata": {
        "id": "graphic-humor"
      },
      "source": [
        "## Task 2 : Build a classisfication convolutional neural network\n",
        "\n",
        "\n",
        "The Model should should have the following achitecture : \n",
        "1. 3 Convolution layers : (5 points)\n",
        "    * conv1 : 2 kernels, 3*3 kernel size, stride 1.\n",
        "    * conv2 : 4 kernels, 5*5 kernel size, stride 2.\n",
        "    * conv3 : 8 kernels, 3*3 kernel size, stride 1.\n",
        "    * Add 1 Avarage pooling layer after 2nd layer and 1 Max-pooling layer before the fully connected layers.\n",
        "    * Stride for all pooling operations set to 1 \n",
        "    \n",
        "    \n",
        "2. Fully connected layers : \n",
        "    * fc1 : 64 output-neurons with a relu activation.\n",
        "    * output_layer : final layer with no activation function\n",
        "    * Add Dropout layer after the first (fc1) layer with 25% dropout probability\n",
        "\n",
        "3. Implement the foward pass method for the CNN  (5 points)\n",
        "    * Add an activation function of your own choice after every layer\n",
        "    "
      ],
      "id": "graphic-humor"
    },
    {
      "cell_type": "code",
      "metadata": {
        "id": "committed-restaurant"
      },
      "source": [
        "import torch.nn as nn\n",
        "\n",
        "class Net(nn.Module):\n",
        "    def __init__(self):\n",
        "        super(Net, self).__init__()\n",
        "        #TODO: Declare the model layers\n",
        "        self.encoder = nn.Sequential(\n",
        "          nn.Conv2d(3, 2, 3, 1),\n",
        "          nn.ReLU(),\n",
        "          nn.Conv2d(2, 4, 5, 2),\n",
        "          nn.AvgPool2d(2, stride=1),\n",
        "          nn.ReLU(),\n",
        "          nn.Conv2d(4, 8, 3, 1),\n",
        "          nn.MaxPool2d(2, stride=1),\n",
        "          nn.ReLU(),\n",
        "        )\n",
        "        #TODO\n",
        "        self.classifier = nn.Sequential(\n",
        "            nn.Linear(648, 64),\n",
        "            nn.Dropout(p=0.25),\n",
        "            nn.ReLU(),\n",
        "            nn.Linear(64, 10)\n",
        "        )\n",
        "\n",
        "    def forward(self, x):\n",
        "        # TODO: Implement the forward pass\n",
        "        print(x.shape)\n",
        "        x = self.encoder(x)\n",
        "        x = x.view(x.shape[0], -1)\n",
        "        print(x.shape)\n",
        "        x = self.classifier(x)\n",
        "        return x\n",
        "        # return #None"
      ],
      "id": "committed-restaurant",
      "execution_count": 112,
      "outputs": []
    },
    {
      "cell_type": "markdown",
      "metadata": {
        "id": "computational-occupation"
      },
      "source": [
        "## Task 3 : Convolutional neural network training precedure (5 points)\n",
        "\n",
        "Implement the model training procedure and select the appropriate loss function"
      ],
      "id": "computational-occupation"
    },
    {
      "cell_type": "code",
      "metadata": {
        "colab": {
          "base_uri": "https://localhost:8080/"
        },
        "id": "acquired-radio",
        "outputId": "55172c08-8f9c-4a91-cca1-1bad830bba81"
      },
      "source": [
        "model = Net().to(device)\n",
        "model"
      ],
      "id": "acquired-radio",
      "execution_count": 63,
      "outputs": [
        {
          "output_type": "execute_result",
          "data": {
            "text/plain": [
              "Net(\n",
              "  (encoder): Sequential(\n",
              "    (0): Conv2d(3, 2, kernel_size=(3, 3), stride=(1, 1))\n",
              "    (1): ReLU()\n",
              "    (2): Conv2d(2, 4, kernel_size=(5, 5), stride=(2, 2))\n",
              "    (3): AvgPool2d(kernel_size=2, stride=1, padding=0)\n",
              "    (4): ReLU()\n",
              "    (5): Conv2d(4, 8, kernel_size=(3, 3), stride=(1, 1))\n",
              "    (6): MaxPool2d(kernel_size=2, stride=1, padding=0, dilation=1, ceil_mode=False)\n",
              "    (7): ReLU()\n",
              "  )\n",
              "  (classifier): Sequential(\n",
              "    (0): Linear(in_features=648, out_features=64, bias=True)\n",
              "    (1): Dropout(p=0.25, inplace=False)\n",
              "    (2): ReLU()\n",
              "    (3): Linear(in_features=64, out_features=10, bias=True)\n",
              "  )\n",
              ")"
            ]
          },
          "metadata": {
            "tags": []
          },
          "execution_count": 63
        }
      ]
    },
    {
      "cell_type": "code",
      "metadata": {
        "id": "zpSZZQk8SSJv"
      },
      "source": [
        "# # accuracy_calculator which takes predicted labels and real labels\n",
        "# def accuracy_calculator(preds, y):\n",
        "#   \"\"\"Returns accuracy per batch\"\"\"\n",
        "#   # print(preds.shape)\n",
        "#   # print(y.shape)\n",
        "#   # for pred in preds:\n",
        "#     # print(pred)\n",
        "#   _, predicted = torch.max(preds, 1)\n",
        "#   total += y.size(0)\n",
        "#   correct += (predicted == labels).sum().item()\n",
        "#   rounded_preds = torch.round(torch.max(preds)) #round predictions to the closest integer\n",
        "#   # print(rounded_preds)\n",
        "#   # for idx, v in enumerate(rounded_preds):\n",
        "    \n",
        "#   correct = (rounded_preds == y).float()\n",
        "#   return correct.sum() / len(correct)"
      ],
      "id": "zpSZZQk8SSJv",
      "execution_count": 102,
      "outputs": []
    },
    {
      "cell_type": "code",
      "metadata": {
        "id": "designed-typing"
      },
      "source": [
        "#Set hyper parameters \n",
        "nb_epoch = 3\n",
        "lr = 0.001\n",
        "\n",
        "optimizer = optim.SGD(model.parameters(), lr=lr, momentum=0.9)\n",
        "criterion = nn.CrossEntropyLoss() #TODO: Define the Loss function (criterion)\n",
        "\n",
        "criterion = criterion.to(device)\n",
        "\n",
        "def train(model,trainloader,optimizer, criterion, device):\n",
        "    #TODO : Implement the training procedure of the model at each an every epoch. It should return model loss and accuracy on training sample    \n",
        "    \n",
        "    model.train() # do we do this in every epoch or just once for whole training?\n",
        "    running_loss = 0.0\n",
        "    epoch_loss = 0.0\n",
        "    epoch_acc = 0.0\n",
        "\n",
        "    correct = 0\n",
        "    total = 0\n",
        "    \n",
        "    for i, data in enumerate(trainloader, 0):\n",
        "        # get the inputs\n",
        "        inputs, labels = data\n",
        "        inputs, labels = inputs.to(device), labels.to(device)\n",
        "        # zero the parameter gradients\n",
        "        optimizer.zero_grad()\n",
        "\n",
        "        # forward + backward + optimize\n",
        "        outputs = model(inputs).squeeze(1)\n",
        "        loss = criterion(outputs, labels)\n",
        "\n",
        "\n",
        "        _, predicted = torch.max(outputs.data, 1)\n",
        "        total += labels.size(0)\n",
        "        correct += (predicted == labels).sum().item()\n",
        "\n",
        "        loss.backward()\n",
        "        optimizer.step()\n",
        "        \n",
        "        epoch_loss += loss.item()\n",
        "        # epoch_acc += acc.item()\n",
        "          \n",
        "    return epoch_loss / len(trainloader), correct / total\n",
        "\n",
        "    #     # print statistics\n",
        "    #     running_loss += loss.item()\n",
        "    #     if (i+1) % 500 == 0:    # print every 500 mini-batches\n",
        "    #         print('[%d, %5d] loss: %.3f' %\n",
        "    #             (epoch + 1, i + 1, running_loss / 500))\n",
        "    #         running_loss = 0.0\n",
        "\n",
        "    # print('Finished Training')\n",
        "    # return None , None"
      ],
      "id": "designed-typing",
      "execution_count": 107,
      "outputs": []
    },
    {
      "cell_type": "code",
      "metadata": {
        "colab": {
          "base_uri": "https://localhost:8080/"
        },
        "id": "confident-purple",
        "outputId": "06156325-c997-4935-d80a-be7e6b2204bf"
      },
      "source": [
        "for epoch in range(nb_epoch):\n",
        "    epochLoss, epochAcc = train(model,trainloader, optimizer, criterion, device)\n",
        "    print(f\"Epoch : {epoch}, Loss {epochLoss}, Accuracy {epochAcc}\")"
      ],
      "id": "confident-purple",
      "execution_count": 108,
      "outputs": [
        {
          "output_type": "stream",
          "text": [
            "Epoch : 0, Loss 1.4676150425032237, Accuracy 0.5064908472910439\n",
            "Epoch : 1, Loss 1.054479754439608, Accuracy 0.6683183859562909\n",
            "Epoch : 2, Loss 0.9110638788693857, Accuracy 0.7194397804987919\n"
          ],
          "name": "stdout"
        }
      ]
    },
    {
      "cell_type": "markdown",
      "metadata": {
        "id": "recreational-dodge"
      },
      "source": [
        "## Task 4 (bonus) : Use pretrained CNN model or Viterbi implementation (5 points)\n",
        "\n",
        "**Option 1** : Import any pretrained model and train on CIFAR10. Print out the loss and accuracy at each an every epoch. Number of training epochs and optimizer are of your choice. <br>\n",
        "**OPtion 2** : Implement the viterbi algorithm (from previous lab task POS tagging) "
      ],
      "id": "recreational-dodge"
    },
    {
      "cell_type": "code",
      "metadata": {
        "id": "innovative-statement",
        "colab": {
          "base_uri": "https://localhost:8080/",
          "height": 117,
          "referenced_widgets": [
            "3e0ce1cd4b494102aa135a9727e6d53b",
            "83f7d348479c4df085168183b72cb419",
            "946854c2836949bea7e819d022858428",
            "91ed716ee495405a95b096cdee1530d7",
            "271c5d6be8144bd7a800fbd13d77837d",
            "af30b6765e7c4144af64c90dc5822baf",
            "f3109b72c4fc40bca7cbf99a0b2a9075",
            "9548a67878d146d392ee6ea6144b4e28"
          ]
        },
        "outputId": "656be1bc-7de5-4596-9c76-0c872ae7dfb9"
      },
      "source": [
        "\n",
        "import torchvision.models as models\n",
        "\n",
        "transform = transforms.Compose(\n",
        "    [transforms.Resize((256,256)),\n",
        "     transforms.ToTensor(),\n",
        "     transforms.Normalize((0.5, 0.5, 0.5), (0.5, 0.5, 0.5))])\n",
        "\n",
        "trainset = torchvision.datasets.CIFAR10(root='./data', train=True,\n",
        "                                        download=True, transform=transform)\n",
        "trainloader = torch.utils.data.DataLoader(trainset, batch_size=4,\n",
        "                                          shuffle=True, num_workers=2)\n",
        "\n",
        "testset = torchvision.datasets.CIFAR10(root='./data', train=False,\n",
        "                                       download=True, transform=transform)\n",
        "testloader = torch.utils.data.DataLoader(testset, batch_size=4,\n",
        "                                         shuffle=False, num_workers=2)\n",
        "\n",
        "classes = ('plane', 'car', 'bird', 'cat',\n",
        "           'deer', 'dog', 'frog', 'horse', 'ship', 'truck')"
      ],
      "id": "innovative-statement",
      "execution_count": 109,
      "outputs": [
        {
          "output_type": "stream",
          "text": [
            "Downloading https://www.cs.toronto.edu/~kriz/cifar-10-python.tar.gz to ./data/cifar-10-python.tar.gz\n"
          ],
          "name": "stdout"
        },
        {
          "output_type": "display_data",
          "data": {
            "application/vnd.jupyter.widget-view+json": {
              "model_id": "3e0ce1cd4b494102aa135a9727e6d53b",
              "version_minor": 0,
              "version_major": 2
            },
            "text/plain": [
              "HBox(children=(FloatProgress(value=0.0, max=170498071.0), HTML(value='')))"
            ]
          },
          "metadata": {
            "tags": []
          }
        },
        {
          "output_type": "stream",
          "text": [
            "\n",
            "Extracting ./data/cifar-10-python.tar.gz to ./data\n",
            "Files already downloaded and verified\n"
          ],
          "name": "stdout"
        }
      ]
    },
    {
      "cell_type": "code",
      "metadata": {
        "colab": {
          "base_uri": "https://localhost:8080/",
          "height": 83,
          "referenced_widgets": [
            "712fa83e4e664d5798147667fa8f79a3",
            "0593f84d704647b98830a8808078330c",
            "f520b6e5bdb442cd93836cc2d5550232",
            "280f8fcc18c44b78b112ea5f90564f13",
            "6a0733c6702b4d8d9548e93bb0c78fa6",
            "88d94e7d468d473ea743fdfd71ad9523",
            "ef5ccb79d7504f17a64b9095960f53a9",
            "948212643bfd4b289aa5c8f88b151e10"
          ]
        },
        "id": "MeBhkRaxfXjt",
        "outputId": "18e95efd-95e4-4679-bad5-75b77fe8d833"
      },
      "source": [
        "\n",
        "import torch.nn as nn\n",
        "import torch.nn.functional as F\n",
        "\n",
        "\n",
        "class Net(nn.Module):\n",
        "    def __init__(self):\n",
        "        super(Net, self).__init__()\n",
        "        self.net = models.resnet18(pretrained=True,progress=True)\n",
        "        self.net.trainable = False\n",
        "        self.net.fc = nn.Linear(512, 10)\n",
        "\n",
        "    def forward(self, x):\n",
        "        return self.net(x)\n",
        "\n",
        "\n",
        "net = Net()\n",
        "net = net.to(device)"
      ],
      "id": "MeBhkRaxfXjt",
      "execution_count": 110,
      "outputs": [
        {
          "output_type": "stream",
          "text": [
            "Downloading: \"https://download.pytorch.org/models/resnet18-5c106cde.pth\" to /root/.cache/torch/hub/checkpoints/resnet18-5c106cde.pth\n"
          ],
          "name": "stderr"
        },
        {
          "output_type": "display_data",
          "data": {
            "application/vnd.jupyter.widget-view+json": {
              "model_id": "712fa83e4e664d5798147667fa8f79a3",
              "version_minor": 0,
              "version_major": 2
            },
            "text/plain": [
              "HBox(children=(FloatProgress(value=0.0, max=46827520.0), HTML(value='')))"
            ]
          },
          "metadata": {
            "tags": []
          }
        },
        {
          "output_type": "stream",
          "text": [
            "\n"
          ],
          "name": "stdout"
        }
      ]
    },
    {
      "cell_type": "code",
      "metadata": {
        "id": "IV0-Dj7afZ2J"
      },
      "source": [
        "for epoch in range(nb_epoch):\n",
        "    epochLoss, epochAcc = train(net,trainloader, optimizer, criterion, device)\n",
        "    print(f\"Epoch : {epoch}, Loss {epochLoss}, Accuracy {epochAcc}\")"
      ],
      "id": "IV0-Dj7afZ2J",
      "execution_count": null,
      "outputs": []
    }
  ]
}