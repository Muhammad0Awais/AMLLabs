{
  "nbformat": 4,
  "nbformat_minor": 5,
  "metadata": {
    "accelerator": "GPU",
    "colab": {
      "name": "FinalTermLab.ipynb",
      "provenance": [],
      "toc_visible": true,
      "include_colab_link": true
    },
    "kernelspec": {
      "display_name": "Python 3",
      "language": "python",
      "name": "python3"
    },
    "language_info": {
      "codemirror_mode": {
        "name": "ipython",
        "version": 3
      },
      "file_extension": ".py",
      "mimetype": "text/x-python",
      "name": "python",
      "nbconvert_exporter": "python",
      "pygments_lexer": "ipython3",
      "version": "3.8.5"
    }
  },
  "cells": [
    {
      "cell_type": "markdown",
      "metadata": {
        "id": "view-in-github",
        "colab_type": "text"
      },
      "source": [
        "<a href=\"https://colab.research.google.com/github/Muhammad0Awais/AMLLabs/blob/main/FinalTermLab.ipynb\" target=\"_parent\"><img src=\"https://colab.research.google.com/assets/colab-badge.svg\" alt=\"Open In Colab\"/></a>"
      ]
    },
    {
      "cell_type": "markdown",
      "metadata": {
        "id": "average-extension"
      },
      "source": [
        "## <center>Final Exam Lab\n",
        "```\n",
        "- Advanced Machine Learning, Innopolis University \n",
        "- Professor: Muhammad Fahim \n",
        "- Teaching Assistant: Gcinizwe Dlamini\n",
        "```\n",
        "<hr>\n",
        "\n",
        "```\n",
        "Tasks:\n",
        "  1. Data Preprocessing (5 points)\n",
        "  2. Conditional Generative adversarial network definition (5 points)\n",
        "  3. Conditional Generative adversarial network training (10 points)\n",
        "  4. Text explainer implemetation using Lime or Shap (5 bonus points)\n",
        "```\n",
        "\n",
        "<hr>"
      ],
      "id": "average-extension"
    },
    {
      "cell_type": "markdown",
      "metadata": {
        "id": "composite-convenience"
      },
      "source": [
        "## The Dataset\n",
        "\n",
        "For this task the 20 newsgroups text dataset is used. [LINK](https://scikit-learn.org/0.19/datasets/twenty_newsgroups.html)"
      ],
      "id": "composite-convenience"
    },
    {
      "cell_type": "code",
      "metadata": {
        "id": "average-creek",
        "colab": {
          "base_uri": "https://localhost:8080/"
        },
        "outputId": "e638f136-b3cd-4834-b89b-7ced10fea3ef"
      },
      "source": [
        "from sklearn.datasets import fetch_20newsgroups\n",
        "import numpy as np\n",
        "\n",
        "import nltk, string, re\n",
        "nltk.download('stopwords')\n",
        "nltk.download('punkt')\n",
        "from nltk.corpus import stopwords\n",
        "from nltk.tokenize import word_tokenize\n",
        "\n",
        "from torchtext.data.utils import get_tokenizer\n",
        "from collections import Counter\n",
        "from torchtext.vocab import Vocab\n",
        "import torch\n",
        "from torch import nn\n",
        "from torch.utils.data import DataLoader, TensorDataset\n",
        "from torch.autograd import Variable\n",
        "\n",
        "\n",
        "device = torch.device('cuda' if torch.cuda.is_available() else 'cpu')\n",
        "print(f\"Available device : {device}\")"
      ],
      "id": "average-creek",
      "execution_count": 1,
      "outputs": [
        {
          "output_type": "stream",
          "text": [
            "[nltk_data] Downloading package stopwords to /root/nltk_data...\n",
            "[nltk_data]   Package stopwords is already up-to-date!\n",
            "[nltk_data] Downloading package punkt to /root/nltk_data...\n",
            "[nltk_data]   Package punkt is already up-to-date!\n",
            "Available device : cuda\n"
          ],
          "name": "stdout"
        }
      ]
    },
    {
      "cell_type": "markdown",
      "metadata": {
        "id": "rubber-november"
      },
      "source": [
        "## Task 1: Preprocessing of Dataset (5 points)\n",
        "\n",
        "\n",
        "\n",
        "1.  Loading and cleaning of Text data:\n",
        "    * Choose 4 categories from the dataset  \n",
        "    * Implement a method `clean_text` which will take text then make text lowercase, remove punctuation, whitespaces and stopwords\n",
        "    * Plot the distribution of classes/categories"
      ],
      "id": "rubber-november"
    },
    {
      "cell_type": "code",
      "metadata": {
        "id": "secret-publisher"
      },
      "source": [
        "categories = ['rec.autos', 'rec.motorcycles', 'rec.sport.baseball','rec.sport.hockey'] #TODO: Choose 4 categories from the dataset\n",
        "newsgroups_train = fetch_20newsgroups(subset='train', categories=categories, remove=('headers', 'footers', 'quotes'))\n",
        "newsgroups_valid = fetch_20newsgroups(subset='test', categories=categories, remove=('headers', 'footers', 'quotes'))"
      ],
      "id": "secret-publisher",
      "execution_count": 2,
      "outputs": []
    },
    {
      "cell_type": "code",
      "metadata": {
        "id": "forward-invitation"
      },
      "source": [
        "def clean_text(text):\n",
        "    \"\"\" Function to perform common NLP pre-processing tasks. \"\"\"\n",
        "    # make lowercase\n",
        "\n",
        "    text = text.lower()\n",
        "\n",
        "\n",
        "    # remove punctuation\n",
        "\n",
        "    words = nltk.word_tokenize(text)\n",
        "\n",
        "    words=[word.lower() for word in words if word.isalpha()]\n",
        "\n",
        "    # remove numbers\n",
        "\n",
        "    # remove whitespaces\n",
        "\n",
        "    # remove stopwords\n",
        "    stop_words = set(stopwords.words('english')) \n",
        "  \n",
        "    filtered_sentence = [w for w in words if not w in stop_words] \n",
        "\n",
        "    # remove short words\n",
        "\n",
        "    filtered_sentence_4 = [w for w in words if len(w)>=4]\n",
        "\n",
        "    textt = \"\".join([\" \"+i if not i.startswith(\"'\") and i not in string.punctuation else i for i in filtered_sentence_4]).strip()\n",
        "\n",
        "    return textt"
      ],
      "id": "forward-invitation",
      "execution_count": 3,
      "outputs": []
    },
    {
      "cell_type": "code",
      "metadata": {
        "id": "NMJzRIZDA9lw"
      },
      "source": [
        "# print(clean_text(\"   Hello I a'm nbasdf BN asdf 1 2 2 2 asdfjkasd \"))"
      ],
      "id": "NMJzRIZDA9lw",
      "execution_count": 4,
      "outputs": []
    },
    {
      "cell_type": "code",
      "metadata": {
        "id": "generic-cathedral"
      },
      "source": [
        "train_sentences = []\n",
        "validation_sentences = []\n",
        "\n",
        "train_labels = []\n",
        "validation_labels = []\n",
        "\n",
        "\n",
        "# Clean training sentences\n",
        "for id in range(len(newsgroups_train.data)):\n",
        "    text = clean_text(newsgroups_train.data[id])\n",
        "    label = newsgroups_train.target[id]\n",
        "    if text:\n",
        "        train_sentences.append(text)\n",
        "        train_labels.append(label)\n",
        "\n",
        "# Clean validation sentences\n",
        "for id in range(len(newsgroups_valid.data)):\n",
        "    text = clean_text(newsgroups_valid.data[id])\n",
        "    label = newsgroups_valid.target[id]\n",
        "    if text:\n",
        "        validation_sentences.append(text)\n",
        "        validation_labels.append(label)"
      ],
      "id": "generic-cathedral",
      "execution_count": 5,
      "outputs": []
    },
    {
      "cell_type": "code",
      "metadata": {
        "id": "6nK4iXqzFzI0"
      },
      "source": [
        "categorie_s = ['autos', 'motorcycles', 'baseball','hockey']\n",
        "trainlabels = [categorie_s[i] for i in train_labels]\n",
        "\n",
        "validationlabels  = [categorie_s[i] for i in validation_labels]"
      ],
      "id": "6nK4iXqzFzI0",
      "execution_count": 6,
      "outputs": []
    },
    {
      "cell_type": "code",
      "metadata": {
        "colab": {
          "base_uri": "https://localhost:8080/",
          "height": 279
        },
        "id": "Ked65TZ9D_8M",
        "outputId": "a62e184e-612a-4961-e3fb-bb7e7bab2b54"
      },
      "source": [
        "import matplotlib.pyplot as plt\n",
        "%matplotlib inline\n",
        "\n",
        "\n",
        "plt.hist(trainlabels)  # density=False would make counts\n",
        "plt.hist(validationlabels)  # density=False would make counts\n",
        "plt.legend([\"Train\", \"Validation\"])\n",
        "plt.ylabel('Distribution')\n",
        "plt.xlabel('Catagories');\n"
      ],
      "id": "Ked65TZ9D_8M",
      "execution_count": 7,
      "outputs": [
        {
          "output_type": "display_data",
          "data": {
            "image/png": "[encoded data removed]",
            "text/plain": [
              "<Figure size 432x288 with 1 Axes>"
            ]
          },
          "metadata": {
            "tags": [],
            "needs_background": "light"
          }
        }
      ]
    },
    {
      "cell_type": "markdown",
      "metadata": {
        "id": "careful-anniversary"
      },
      "source": [
        "## Create vocabulary"
      ],
      "id": "careful-anniversary"
    },
    {
      "cell_type": "code",
      "metadata": {
        "id": "qualified-excellence"
      },
      "source": [
        "# Create tokenizer\n",
        "en_tokenizer = get_tokenizer('spacy', language='en')\n",
        "\n",
        "# Create vocabulary\n",
        "def build_vocab(sentences, tokenizer):\n",
        "    counter = Counter()\n",
        "    for sentence in sentences:\n",
        "        counter.update(tokenizer(sentence))\n",
        "    return Vocab(counter, specials=['<unk>', '<pad>'])\n",
        "\n",
        "vocabulary = build_vocab(train_sentences, en_tokenizer)"
      ],
      "id": "qualified-excellence",
      "execution_count": 8,
      "outputs": []
    },
    {
      "cell_type": "markdown",
      "metadata": {
        "id": "unlike-filename"
      },
      "source": [
        "## Add padding "
      ],
      "id": "unlike-filename"
    },
    {
      "cell_type": "code",
      "metadata": {
        "id": "ecological-hormone"
      },
      "source": [
        "max_len = 128\n",
        "\n",
        "# Add Padding \n",
        "def create_dataset(sentences, labels, en_tokenizer, vocab, max_len=128):\n",
        "    res = []\n",
        "    for sentence in sentences:\n",
        "        sentence_tokens = [vocab[token] for token in en_tokenizer(sentence)]\n",
        "        if len(sentence_tokens) <= max_len:\n",
        "            sentence_tokens = sentence_tokens + [vocab['<pad>']]*(max_len-len(sentence_tokens))\n",
        "        else:\n",
        "            sentence_tokens = sentence_tokens[:max_len]\n",
        "        sentence_tensor = torch.tensor(sentence_tokens,dtype=torch.long)\n",
        "        res.append(sentence_tensor)\n",
        "        \n",
        "    return TensorDataset(torch.stack(res),torch.from_numpy(np.array(labels)))\n",
        "\n",
        "BATCH_SIZE = 128\n",
        "PAD_IDX = vocabulary['<pad>']\n",
        "\n",
        "train_dataset = create_dataset(train_sentences,train_labels, en_tokenizer, vocabulary)\n",
        "train_loader = DataLoader(train_dataset, batch_size=BATCH_SIZE, shuffle=True)\n",
        "\n",
        "validation_dataset = create_dataset(validation_sentences, validation_labels, en_tokenizer, vocabulary)"
      ],
      "id": "ecological-hormone",
      "execution_count": 9,
      "outputs": []
    },
    {
      "cell_type": "code",
      "metadata": {
        "colab": {
          "base_uri": "https://localhost:8080/"
        },
        "id": "6E8V4m-_Upnm",
        "outputId": "bd70904f-1244-4fa9-e497-6bc4b28a86e6"
      },
      "source": [
        "from google.colab import drive\n",
        "drive.mount('/content/drive')"
      ],
      "id": "6E8V4m-_Upnm",
      "execution_count": 11,
      "outputs": [
        {
          "output_type": "stream",
          "text": [
            "Mounted at /content/drive\n"
          ],
          "name": "stdout"
        }
      ]
    },
    {
      "cell_type": "code",
      "metadata": {
        "colab": {
          "base_uri": "https://localhost:8080/"
        },
        "id": "lt4DaVwAUo9d",
        "outputId": "ad4410a2-4fef-41c0-fada-b44c246d093a"
      },
      "source": [
        "from sklearn.datasets import fetch_20newsgroups\n",
        "import numpy as np\n",
        "\n",
        "import nltk, string, re\n",
        "nltk.download('stopwords')\n",
        "nltk.download('punkt')\n",
        "from nltk.corpus import stopwords\n",
        "from nltk.tokenize import word_tokenize\n",
        "\n",
        "from torchtext.data.utils import get_tokenizer\n",
        "from collections import Counter\n",
        "from torchtext.vocab import Vocab\n",
        "import torch\n",
        "from torch import nn\n",
        "from torch.utils.data import DataLoader, TensorDataset\n",
        "from torch.autograd import Variable\n",
        "\n",
        "\n",
        "device = torch.device('cuda' if torch.cuda.is_available() else 'cpu')\n",
        "print(f\"Available device : {device}\")\n",
        "\n",
        "pathtrain_loader = '/content/drive/MyDrive/ML Labs/final/train_loader.pt'\n",
        "pathtrain_dataset = '/content/drive/MyDrive/ML Labs/final/train_dataset.pt'\n",
        "pathvalidation_dataset = '/content/drive/MyDrive/ML Labs/final/validation_dataset.pt'\n",
        "pathvocabulary = '/content/drive/MyDrive/ML Labs/final/vocabulary.pt'\n",
        "\n",
        "BATCH_SIZE = 128\n",
        "max_len = 128\n",
        "\n",
        "# torch.save(train_loader, pathtrain_loader)\n",
        "# torch.save(train_dataset, pathtrain_dataset)\n",
        "# torch.save(validation_dataset,pathvalidation_dataset)\n",
        "# torch.save(vocabulary, pathvocabulary)"
      ],
      "id": "lt4DaVwAUo9d",
      "execution_count": 1,
      "outputs": [
        {
          "output_type": "stream",
          "text": [
            "[nltk_data] Downloading package stopwords to /root/nltk_data...\n",
            "[nltk_data]   Package stopwords is already up-to-date!\n",
            "[nltk_data] Downloading package punkt to /root/nltk_data...\n",
            "[nltk_data]   Package punkt is already up-to-date!\n",
            "Available device : cuda\n"
          ],
          "name": "stdout"
        }
      ]
    },
    {
      "cell_type": "code",
      "metadata": {
        "id": "i_9esefzWldg"
      },
      "source": [
        "train_loader = torch.load(pathtrain_loader)\n",
        "train_dataset = torch.load(pathtrain_dataset)\n",
        "validation_dataset = torch.load(pathvalidation_dataset)\n",
        "vocabulary = torch.load(pathvocabulary)"
      ],
      "id": "i_9esefzWldg",
      "execution_count": 2,
      "outputs": []
    },
    {
      "cell_type": "markdown",
      "metadata": {
        "id": "attached-reservoir"
      },
      "source": [
        "## Task 2: Conditional Generative adversarial network definition (5 points)\n",
        "\n",
        "1.  Models Definition:\n",
        "    * Define the Generator & Discriminator network (Achitecture of your choice) "
      ],
      "id": "attached-reservoir"
    },
    {
      "cell_type": "code",
      "metadata": {
        "id": "otherwise-reference",
        "colab": {
          "base_uri": "https://localhost:8080/"
        },
        "outputId": "b59342b7-a54a-4c1f-f41c-5cb3ea785380"
      },
      "source": [
        "# TODO: Implement the Generator & Discriminator class\n",
        "class Generator(nn.Module):\n",
        "    # initializers\n",
        "    def __init__(self,output_dim, noise_dim=32):\n",
        "        super(Generator, self).__init__()\n",
        "        embedingy = 128\n",
        "        self.label_emb = nn.Embedding(4, embedingy)\n",
        "        self.output_dim = output_dim\n",
        "        \n",
        "        self.model = nn.Sequential(\n",
        "            nn.Linear(embedingy+noise_dim, 256),\n",
        "            nn.LeakyReLU(0.2, inplace=True),\n",
        "            nn.Linear(256, 512),\n",
        "            nn.LeakyReLU(0.2, inplace=True),\n",
        "            nn.Linear(512, 1024),\n",
        "            nn.LeakyReLU(0.2, inplace=True),\n",
        "            nn.Linear(1024, output_dim)\n",
        "        )\n",
        "\n",
        "    # forward method. Condition is should be incorporated to the model input \n",
        "    def forward(self, x, labels):\n",
        "        z = x.view(x.size(0), 100)\n",
        "        c = self.label_emb(labels)\n",
        "        print(\"x dimension\", x.shape)\n",
        "        print(\"c dimension\", c.shape)\n",
        "        x = torch.cat([z, c])\n",
        "        out = self.model(x)\n",
        "        return out.view(x.size(0), self.output_dim)\n",
        "\n",
        "class Discriminator(nn.Module):\n",
        "    # initializers\n",
        "    def __init__(self,input_size):\n",
        "        super(Discriminator, self).__init__()\n",
        "        embedingy = 128\n",
        "        self.label_emb = nn.Embedding(4, embedingy)\n",
        "        self.input_size = input_size\n",
        "\n",
        "        self.model = nn.Sequential(\n",
        "            nn.Linear(input_size, 1024),\n",
        "            nn.LeakyReLU(0.2, inplace=True),\n",
        "            nn.Dropout(0.3),\n",
        "            nn.Linear(1024, 512),\n",
        "            nn.LeakyReLU(0.2, inplace=True),\n",
        "            nn.Dropout(0.3),\n",
        "            nn.Linear(512, 256),\n",
        "            nn.LeakyReLU(0.2, inplace=True),\n",
        "            nn.Dropout(0.3),\n",
        "            nn.Linear(256, 128),\n",
        "            nn.Dropout(0.3),\n",
        "            nn.Linear(128, 1),\n",
        "            nn.Sigmoid()\n",
        "        )\n",
        "\n",
        "    # forward method. Note: Condition is should be incorporated to the model input\n",
        "    def forward(self, x, labels):\n",
        "        x = x.view(x.size(0), self.input_size)\n",
        "        c = self.label_emb(labels)\n",
        "        print(\"x dimension\", x.shape)\n",
        "        print(\"c dimension\", c.shape)\n",
        "        x = torch.cat([x, c])\n",
        "        out = self.model(x)\n",
        "        return out.squeeze()\n",
        "\n",
        "# define discriminator and generator\n",
        "# TODO: specify the input and output size\n",
        "\n",
        "D = Discriminator(input_size=max_len).to(device).float()\n",
        "G = Generator(output_dim=max_len).to(device).float()\n",
        "\n",
        "print(G)\n",
        "print()\n",
        "print(D)"
      ],
      "id": "otherwise-reference",
      "execution_count": 31,
      "outputs": [
        {
          "output_type": "stream",
          "text": [
            "Generator(\n",
            "  (label_emb): Embedding(4, 128)\n",
            "  (model): Sequential(\n",
            "    (0): Linear(in_features=160, out_features=256, bias=True)\n",
            "    (1): LeakyReLU(negative_slope=0.2, inplace=True)\n",
            "    (2): Linear(in_features=256, out_features=512, bias=True)\n",
            "    (3): LeakyReLU(negative_slope=0.2, inplace=True)\n",
            "    (4): Linear(in_features=512, out_features=1024, bias=True)\n",
            "    (5): LeakyReLU(negative_slope=0.2, inplace=True)\n",
            "    (6): Linear(in_features=1024, out_features=128, bias=True)\n",
            "  )\n",
            ")\n",
            "\n",
            "Discriminator(\n",
            "  (label_emb): Embedding(4, 128)\n",
            "  (model): Sequential(\n",
            "    (0): Linear(in_features=128, out_features=1024, bias=True)\n",
            "    (1): LeakyReLU(negative_slope=0.2, inplace=True)\n",
            "    (2): Dropout(p=0.3, inplace=False)\n",
            "    (3): Linear(in_features=1024, out_features=512, bias=True)\n",
            "    (4): LeakyReLU(negative_slope=0.2, inplace=True)\n",
            "    (5): Dropout(p=0.3, inplace=False)\n",
            "    (6): Linear(in_features=512, out_features=256, bias=True)\n",
            "    (7): LeakyReLU(negative_slope=0.2, inplace=True)\n",
            "    (8): Dropout(p=0.3, inplace=False)\n",
            "    (9): Linear(in_features=256, out_features=128, bias=True)\n",
            "    (10): Dropout(p=0.3, inplace=False)\n",
            "    (11): Linear(in_features=128, out_features=1, bias=True)\n",
            "    (12): Sigmoid()\n",
            "  )\n",
            ")\n"
          ],
          "name": "stdout"
        }
      ]
    },
    {
      "cell_type": "markdown",
      "metadata": {
        "id": "sudden-delta"
      },
      "source": [
        "## Task 3: Conditional Generative adversarial network training (10 points)\n",
        "\n",
        "* Implement the Conditional Generative adversarial network training procedure \n",
        "* Define the optimizers for Generator and Discriminator network\n",
        "* Define the loss functions\n",
        "* Add Tensorboard to log the Generator and Discriminator loss (for both Training and Validation). For discriminator the loss on fake samples and real samples should be logged separately \n",
        "\n",
        "**NOTE:** It is not important that the loss decreases during the training loop for this task. It is important that the training procedure is correctly implemented"
      ],
      "id": "sudden-delta"
    },
    {
      "cell_type": "code",
      "metadata": {
        "id": "liable-castle"
      },
      "source": [
        "from torch.utils.tensorboard import SummaryWriter\n",
        "\n",
        "%load_ext tensorboard\n",
        "\n",
        "writer = SummaryWriter()\n",
        "\n",
        "# params\n",
        "learning_rate = 0.0001\n",
        "n_epochs = 10\n",
        "\n",
        "# TODO: Create optimizers for the discriminator and generator\n",
        "# d_optimizer = None\n",
        "# g_optimizer = None\n",
        "\n",
        "criterion = nn.BCELoss()\n",
        "d_optimizer = torch.optim.Adam(D.parameters(), lr=1e-4)\n",
        "g_optimizer = torch.optim.Adam(G.parameters(), lr=1e-4)\n",
        "\n",
        "#fixed noise for validation \n",
        "fixed_noise = torch.normal(0,1, (len(validation_dataset),max_len), dtype=torch.float, device=device)"
      ],
      "id": "liable-castle",
      "execution_count": 4,
      "outputs": []
    },
    {
      "cell_type": "code",
      "metadata": {
        "id": "7mfvGjYrOo_a"
      },
      "source": [
        "def generator_train_step(batch_size, discriminator, generator, g_optimizer, criterion):\n",
        "    g_optimizer.zero_grad()\n",
        "    z = Variable(torch.randn(max_len, 100)).cuda()\n",
        "    fake_labels = Variable(torch.LongTensor(np.random.randint(0, max_len, batch_size))).cuda()\n",
        "    fake_images = generator(z, fake_labels)\n",
        "    validity = discriminator(fake_images, fake_labels)\n",
        "    g_loss = criterion(validity, Variable(torch.ones(max_len)).cuda())\n",
        "    g_loss.backward()\n",
        "    g_optimizer.step()\n",
        "    return g_loss.data[0]"
      ],
      "id": "7mfvGjYrOo_a",
      "execution_count": 5,
      "outputs": []
    },
    {
      "cell_type": "code",
      "metadata": {
        "id": "gUPQP-mPOqsO"
      },
      "source": [
        "def discriminator_train_step(batch_size, discriminator, generator, d_optimizer, criterion, real_images, labels):\n",
        "    d_optimizer.zero_grad()\n",
        "\n",
        "    # train with real images\n",
        "    real_validity = discriminator(real_images, labels)\n",
        "    print(real_validity.shape)\n",
        "    real_loss = criterion(real_validity, Variable(torch.ones(batch_size)).cuda())\n",
        "    \n",
        "    # train with fake images\n",
        "    # z = \n",
        "    z = Variable(torch.randn(max_len, 100)).cuda()\n",
        "    fake_labels = Variable(torch.LongTensor(np.random.randint(0, max_len, batch_size))).cuda()\n",
        "    fake_images = generator(z, fake_labels)\n",
        "    fake_validity = discriminator(fake_images, fake_labels)\n",
        "    fake_loss = criterion(fake_validity, Variable(torch.zeros(max_len)).cuda())\n",
        "    \n",
        "    d_loss = real_loss + fake_loss\n",
        "    d_loss.backward()\n",
        "    d_optimizer.step()\n",
        "    return d_loss.data[0]"
      ],
      "id": "gUPQP-mPOqsO",
      "execution_count": 24,
      "outputs": []
    },
    {
      "cell_type": "code",
      "metadata": {
        "id": "Gvp67ZIhZWz6"
      },
      "source": [
        "def real_loss(D_out):\n",
        "    batch_size = D_out.size(0)\n",
        "    labels = torch.ones(batch_size).to(device) # real labels = 1     \n",
        "    \n",
        "    # binary cross entropy with logits loss\n",
        "    criterion = nn.BCEWithLogitsLoss()\n",
        "    # calculate loss\n",
        "    loss = criterion(D_out.squeeze(), labels)\n",
        "    return loss\n",
        "\n",
        "def fake_loss(D_out):\n",
        "    batch_size = D_out.size(0)\n",
        "    labels = torch.FloatTensor(batch_size).uniform_(0, 0.1).to(device) # fake labels approx 0\n",
        "    labels = labels.to(device)\n",
        "    criterion = nn.BCEWithLogitsLoss()\n",
        "    # calculate loss\n",
        "    loss = criterion(D_out.squeeze(), labels)\n",
        "    return loss"
      ],
      "id": "Gvp67ZIhZWz6",
      "execution_count": 10,
      "outputs": []
    },
    {
      "cell_type": "code",
      "metadata": {
        "id": "promotional-extra",
        "colab": {
          "base_uri": "https://localhost:8080/",
          "height": 442
        },
        "outputId": "58adb347-62ce-4a69-ae7c-44988ec2c89a"
      },
      "source": [
        "## TODO: Implement the training procedure and log train & validation loss using tensorboard\n",
        "# batch_size = 128\n",
        "for epoch in range(n_epochs):\n",
        "    print(\"loss\")\n",
        "    for x,y in train_loader:\n",
        "        x = x.to(device)\n",
        "        y = y.to(device)\n",
        "\n",
        "        #Train discriminator\n",
        "\n",
        "        #Train generator\n",
        "\n",
        "        #validation \n",
        "\n",
        "        #Log Train and validation loss for G and D (training loss for fake and real separate) : Use tensorboard\n",
        "        real_texts = Variable(x).cuda()\n",
        "        labels = Variable(y).cuda()\n",
        "        G.train()\n",
        "        batch_size = real_texts.size(0)\n",
        "        d_loss = discriminator_train_step(len(real_texts), D,\n",
        "                                          G, d_optimizer, criterion,\n",
        "                                          real_texts, labels)\n",
        "        \n",
        "\n",
        "        g_loss = generator_train_step(batch_size, D, G, g_optimizer, criterion)\n",
        "        print(\"loss\")\n",
        "\n",
        "    generator.eval()\n",
        "    print('g_loss: {}, d_loss: {}'.format(g_loss, d_loss))\n",
        "    z = Variable(torch.randn(9, 100)).cuda()\n",
        "    labels = Variable(torch.LongTensor(np.arange(9))).cuda()\n",
        "    sample_images = generator(z, labels).unsqueeze(1).data.cpu()\n",
        "    grid = make_grid(sample_images, nrow=3, normalize=True).permute(1,2,0).numpy()\n",
        "    plt.imshow(grid)\n",
        "    plt.show()\n"
      ],
      "id": "promotional-extra",
      "execution_count": 32,
      "outputs": [
        {
          "output_type": "stream",
          "text": [
            "loss\n",
            "x dimension torch.Size([128, 128])\n",
            "c dimension torch.Size([128, 128])\n",
            "torch.Size([256])\n"
          ],
          "name": "stdout"
        },
        {
          "output_type": "error",
          "ename": "ValueError",
          "evalue": "ignored",
          "traceback": [
            "\u001b[0;31m---------------------------------------------------------------------------\u001b[0m",
            "\u001b[0;31mValueError\u001b[0m                                Traceback (most recent call last)",
            "\u001b[0;32m<ipython-input-32-2df331329941>\u001b[0m in \u001b[0;36m<module>\u001b[0;34m()\u001b[0m\n\u001b[1;32m     20\u001b[0m         d_loss = discriminator_train_step(len(real_texts), D,\n\u001b[1;32m     21\u001b[0m                                           \u001b[0mG\u001b[0m\u001b[0;34m,\u001b[0m \u001b[0md_optimizer\u001b[0m\u001b[0;34m,\u001b[0m \u001b[0mcriterion\u001b[0m\u001b[0;34m,\u001b[0m\u001b[0;34m\u001b[0m\u001b[0;34m\u001b[0m\u001b[0m\n\u001b[0;32m---> 22\u001b[0;31m                                           real_texts, labels)\n\u001b[0m\u001b[1;32m     23\u001b[0m \u001b[0;34m\u001b[0m\u001b[0m\n\u001b[1;32m     24\u001b[0m \u001b[0;34m\u001b[0m\u001b[0m\n",
            "\u001b[0;32m<ipython-input-24-2a2227f5c65a>\u001b[0m in \u001b[0;36mdiscriminator_train_step\u001b[0;34m(batch_size, discriminator, generator, d_optimizer, criterion, real_images, labels)\u001b[0m\n\u001b[1;32m      5\u001b[0m     \u001b[0mreal_validity\u001b[0m \u001b[0;34m=\u001b[0m \u001b[0mdiscriminator\u001b[0m\u001b[0;34m(\u001b[0m\u001b[0mreal_images\u001b[0m\u001b[0;34m,\u001b[0m \u001b[0mlabels\u001b[0m\u001b[0;34m)\u001b[0m\u001b[0;34m\u001b[0m\u001b[0;34m\u001b[0m\u001b[0m\n\u001b[1;32m      6\u001b[0m     \u001b[0mprint\u001b[0m\u001b[0;34m(\u001b[0m\u001b[0mreal_validity\u001b[0m\u001b[0;34m.\u001b[0m\u001b[0mshape\u001b[0m\u001b[0;34m)\u001b[0m\u001b[0;34m\u001b[0m\u001b[0;34m\u001b[0m\u001b[0m\n\u001b[0;32m----> 7\u001b[0;31m     \u001b[0mreal_loss\u001b[0m \u001b[0;34m=\u001b[0m \u001b[0mcriterion\u001b[0m\u001b[0;34m(\u001b[0m\u001b[0mreal_validity\u001b[0m\u001b[0;34m,\u001b[0m \u001b[0mVariable\u001b[0m\u001b[0;34m(\u001b[0m\u001b[0mtorch\u001b[0m\u001b[0;34m.\u001b[0m\u001b[0mones\u001b[0m\u001b[0;34m(\u001b[0m\u001b[0mbatch_size\u001b[0m\u001b[0;34m)\u001b[0m\u001b[0;34m)\u001b[0m\u001b[0;34m.\u001b[0m\u001b[0mcuda\u001b[0m\u001b[0;34m(\u001b[0m\u001b[0;34m)\u001b[0m\u001b[0;34m)\u001b[0m\u001b[0;34m\u001b[0m\u001b[0;34m\u001b[0m\u001b[0m\n\u001b[0m\u001b[1;32m      8\u001b[0m \u001b[0;34m\u001b[0m\u001b[0m\n\u001b[1;32m      9\u001b[0m     \u001b[0;31m# train with fake images\u001b[0m\u001b[0;34m\u001b[0m\u001b[0;34m\u001b[0m\u001b[0;34m\u001b[0m\u001b[0m\n",
            "\u001b[0;32m/usr/local/lib/python3.7/dist-packages/torch/nn/modules/module.py\u001b[0m in \u001b[0;36m_call_impl\u001b[0;34m(self, *input, **kwargs)\u001b[0m\n\u001b[1;32m    887\u001b[0m             \u001b[0mresult\u001b[0m \u001b[0;34m=\u001b[0m \u001b[0mself\u001b[0m\u001b[0;34m.\u001b[0m\u001b[0m_slow_forward\u001b[0m\u001b[0;34m(\u001b[0m\u001b[0;34m*\u001b[0m\u001b[0minput\u001b[0m\u001b[0;34m,\u001b[0m \u001b[0;34m**\u001b[0m\u001b[0mkwargs\u001b[0m\u001b[0;34m)\u001b[0m\u001b[0;34m\u001b[0m\u001b[0;34m\u001b[0m\u001b[0m\n\u001b[1;32m    888\u001b[0m         \u001b[0;32melse\u001b[0m\u001b[0;34m:\u001b[0m\u001b[0;34m\u001b[0m\u001b[0;34m\u001b[0m\u001b[0m\n\u001b[0;32m--> 889\u001b[0;31m             \u001b[0mresult\u001b[0m \u001b[0;34m=\u001b[0m \u001b[0mself\u001b[0m\u001b[0;34m.\u001b[0m\u001b[0mforward\u001b[0m\u001b[0;34m(\u001b[0m\u001b[0;34m*\u001b[0m\u001b[0minput\u001b[0m\u001b[0;34m,\u001b[0m \u001b[0;34m**\u001b[0m\u001b[0mkwargs\u001b[0m\u001b[0;34m)\u001b[0m\u001b[0;34m\u001b[0m\u001b[0;34m\u001b[0m\u001b[0m\n\u001b[0m\u001b[1;32m    890\u001b[0m         for hook in itertools.chain(\n\u001b[1;32m    891\u001b[0m                 \u001b[0m_global_forward_hooks\u001b[0m\u001b[0;34m.\u001b[0m\u001b[0mvalues\u001b[0m\u001b[0;34m(\u001b[0m\u001b[0;34m)\u001b[0m\u001b[0;34m,\u001b[0m\u001b[0;34m\u001b[0m\u001b[0;34m\u001b[0m\u001b[0m\n",
            "\u001b[0;32m/usr/local/lib/python3.7/dist-packages/torch/nn/modules/loss.py\u001b[0m in \u001b[0;36mforward\u001b[0;34m(self, input, target)\u001b[0m\n\u001b[1;32m    611\u001b[0m     \u001b[0;32mdef\u001b[0m \u001b[0mforward\u001b[0m\u001b[0;34m(\u001b[0m\u001b[0mself\u001b[0m\u001b[0;34m,\u001b[0m \u001b[0minput\u001b[0m\u001b[0;34m:\u001b[0m \u001b[0mTensor\u001b[0m\u001b[0;34m,\u001b[0m \u001b[0mtarget\u001b[0m\u001b[0;34m:\u001b[0m \u001b[0mTensor\u001b[0m\u001b[0;34m)\u001b[0m \u001b[0;34m->\u001b[0m \u001b[0mTensor\u001b[0m\u001b[0;34m:\u001b[0m\u001b[0;34m\u001b[0m\u001b[0;34m\u001b[0m\u001b[0m\n\u001b[1;32m    612\u001b[0m         \u001b[0;32massert\u001b[0m \u001b[0mself\u001b[0m\u001b[0;34m.\u001b[0m\u001b[0mweight\u001b[0m \u001b[0;32mis\u001b[0m \u001b[0;32mNone\u001b[0m \u001b[0;32mor\u001b[0m \u001b[0misinstance\u001b[0m\u001b[0;34m(\u001b[0m\u001b[0mself\u001b[0m\u001b[0;34m.\u001b[0m\u001b[0mweight\u001b[0m\u001b[0;34m,\u001b[0m \u001b[0mTensor\u001b[0m\u001b[0;34m)\u001b[0m\u001b[0;34m\u001b[0m\u001b[0;34m\u001b[0m\u001b[0m\n\u001b[0;32m--> 613\u001b[0;31m         \u001b[0;32mreturn\u001b[0m \u001b[0mF\u001b[0m\u001b[0;34m.\u001b[0m\u001b[0mbinary_cross_entropy\u001b[0m\u001b[0;34m(\u001b[0m\u001b[0minput\u001b[0m\u001b[0;34m,\u001b[0m \u001b[0mtarget\u001b[0m\u001b[0;34m,\u001b[0m \u001b[0mweight\u001b[0m\u001b[0;34m=\u001b[0m\u001b[0mself\u001b[0m\u001b[0;34m.\u001b[0m\u001b[0mweight\u001b[0m\u001b[0;34m,\u001b[0m \u001b[0mreduction\u001b[0m\u001b[0;34m=\u001b[0m\u001b[0mself\u001b[0m\u001b[0;34m.\u001b[0m\u001b[0mreduction\u001b[0m\u001b[0;34m)\u001b[0m\u001b[0;34m\u001b[0m\u001b[0;34m\u001b[0m\u001b[0m\n\u001b[0m\u001b[1;32m    614\u001b[0m \u001b[0;34m\u001b[0m\u001b[0m\n\u001b[1;32m    615\u001b[0m \u001b[0;34m\u001b[0m\u001b[0m\n",
            "\u001b[0;32m/usr/local/lib/python3.7/dist-packages/torch/nn/functional.py\u001b[0m in \u001b[0;36mbinary_cross_entropy\u001b[0;34m(input, target, weight, size_average, reduce, reduction)\u001b[0m\n\u001b[1;32m   2753\u001b[0m         raise ValueError(\n\u001b[1;32m   2754\u001b[0m             \u001b[0;34m\"Using a target size ({}) that is different to the input size ({}) is deprecated. \"\u001b[0m\u001b[0;34m\u001b[0m\u001b[0;34m\u001b[0m\u001b[0m\n\u001b[0;32m-> 2755\u001b[0;31m             \u001b[0;34m\"Please ensure they have the same size.\"\u001b[0m\u001b[0;34m.\u001b[0m\u001b[0mformat\u001b[0m\u001b[0;34m(\u001b[0m\u001b[0mtarget\u001b[0m\u001b[0;34m.\u001b[0m\u001b[0msize\u001b[0m\u001b[0;34m(\u001b[0m\u001b[0;34m)\u001b[0m\u001b[0;34m,\u001b[0m \u001b[0minput\u001b[0m\u001b[0;34m.\u001b[0m\u001b[0msize\u001b[0m\u001b[0;34m(\u001b[0m\u001b[0;34m)\u001b[0m\u001b[0;34m)\u001b[0m\u001b[0;34m\u001b[0m\u001b[0;34m\u001b[0m\u001b[0m\n\u001b[0m\u001b[1;32m   2756\u001b[0m         )\n\u001b[1;32m   2757\u001b[0m \u001b[0;34m\u001b[0m\u001b[0m\n",
            "\u001b[0;31mValueError\u001b[0m: Using a target size (torch.Size([128])) that is different to the input size (torch.Size([256])) is deprecated. Please ensure they have the same size."
          ]
        }
      ]
    },
    {
      "cell_type": "code",
      "metadata": {
        "colab": {
          "base_uri": "https://localhost:8080/",
          "height": 408
        },
        "id": "fFp1dio6Zt-H",
        "outputId": "254106e1-be0c-4a6b-ce42-2576328b7bdc"
      },
      "source": [
        "## TODO: Implement the training procedure and log train & validation loss using tensorboard\n",
        "\n",
        "for epoch in range(n_epochs):\n",
        "    for x,y in train_loader:\n",
        "        x = x.to(device)\n",
        "        y = y.to(device)\n",
        "        \n",
        "        #Train discriminator\n",
        "        d_optimizer.zero_grad()\n",
        "        D_real = D(x, y)\n",
        "        d_real_loss = real_loss(D_real)\n",
        "\n",
        "        x_fake = torch.FloatTensor(y.shape[0],32).uniform_(0, 1000).to(device)\n",
        "        x_fake = G(x_fake, y)\n",
        "        D_fake = D(x_fake, y)\n",
        "        d_fake_loss = fake_loss(D_fake)\n",
        "        \n",
        "        d_loss = d_real_loss + d_fake_loss\n",
        "        d_loss.backward()\n",
        "        d_optimizer.step()\n",
        "        \n",
        "        #Train generator\n",
        "        g_optimizer.zero_grad()\n",
        "        z = torch.FloatTensor(y.shape[0],32).uniform_(0, 1000).to(device)\n",
        "        fake_x = G(z, y)\n",
        "        fake_losses = real_loss(D(fake_x, y))\n",
        "        fake_losses.backward()\n",
        "        g_optimizer.step()\n",
        "        #validation \n",
        "        # for x_val, y_val in val_loader:\n",
        "            \n",
        "        # #Log Train and validation loss for G and D (training loss for fake and real separate) : Use tensorboard\n",
        "        # writer.add_scalar(\"Train/generator\", fake_losses, epoch)\n",
        "        # writer.add_scalar(\"Train/discriminator\", d_loss, epoch)"
      ],
      "id": "fFp1dio6Zt-H",
      "execution_count": 16,
      "outputs": [
        {
          "output_type": "stream",
          "text": [
            "x dimension torch.Size([128, 128])\n",
            "c dimension torch.Size([128, 128])\n"
          ],
          "name": "stdout"
        },
        {
          "output_type": "error",
          "ename": "RuntimeError",
          "evalue": "ignored",
          "traceback": [
            "\u001b[0;31m---------------------------------------------------------------------------\u001b[0m",
            "\u001b[0;31mRuntimeError\u001b[0m                              Traceback (most recent call last)",
            "\u001b[0;32m<ipython-input-16-ee88126a7f7f>\u001b[0m in \u001b[0;36m<module>\u001b[0;34m()\u001b[0m\n\u001b[1;32m     12\u001b[0m \u001b[0;34m\u001b[0m\u001b[0m\n\u001b[1;32m     13\u001b[0m         \u001b[0mx_fake\u001b[0m \u001b[0;34m=\u001b[0m \u001b[0mtorch\u001b[0m\u001b[0;34m.\u001b[0m\u001b[0mFloatTensor\u001b[0m\u001b[0;34m(\u001b[0m\u001b[0my\u001b[0m\u001b[0;34m.\u001b[0m\u001b[0mshape\u001b[0m\u001b[0;34m[\u001b[0m\u001b[0;36m0\u001b[0m\u001b[0;34m]\u001b[0m\u001b[0;34m,\u001b[0m\u001b[0;36m32\u001b[0m\u001b[0;34m)\u001b[0m\u001b[0;34m.\u001b[0m\u001b[0muniform_\u001b[0m\u001b[0;34m(\u001b[0m\u001b[0;36m0\u001b[0m\u001b[0;34m,\u001b[0m \u001b[0;36m1000\u001b[0m\u001b[0;34m)\u001b[0m\u001b[0;34m.\u001b[0m\u001b[0mto\u001b[0m\u001b[0;34m(\u001b[0m\u001b[0mdevice\u001b[0m\u001b[0;34m)\u001b[0m\u001b[0;34m\u001b[0m\u001b[0;34m\u001b[0m\u001b[0m\n\u001b[0;32m---> 14\u001b[0;31m         \u001b[0mx_fake\u001b[0m \u001b[0;34m=\u001b[0m \u001b[0mG\u001b[0m\u001b[0;34m(\u001b[0m\u001b[0mx_fake\u001b[0m\u001b[0;34m,\u001b[0m \u001b[0my\u001b[0m\u001b[0;34m)\u001b[0m\u001b[0;34m\u001b[0m\u001b[0;34m\u001b[0m\u001b[0m\n\u001b[0m\u001b[1;32m     15\u001b[0m         \u001b[0mD_fake\u001b[0m \u001b[0;34m=\u001b[0m \u001b[0mD\u001b[0m\u001b[0;34m(\u001b[0m\u001b[0mx_fake\u001b[0m\u001b[0;34m,\u001b[0m \u001b[0my\u001b[0m\u001b[0;34m)\u001b[0m\u001b[0;34m\u001b[0m\u001b[0;34m\u001b[0m\u001b[0m\n\u001b[1;32m     16\u001b[0m         \u001b[0md_fake_loss\u001b[0m \u001b[0;34m=\u001b[0m \u001b[0mfake_loss\u001b[0m\u001b[0;34m(\u001b[0m\u001b[0mD_fake\u001b[0m\u001b[0;34m)\u001b[0m\u001b[0;34m\u001b[0m\u001b[0;34m\u001b[0m\u001b[0m\n",
            "\u001b[0;32m/usr/local/lib/python3.7/dist-packages/torch/nn/modules/module.py\u001b[0m in \u001b[0;36m_call_impl\u001b[0;34m(self, *input, **kwargs)\u001b[0m\n\u001b[1;32m    887\u001b[0m             \u001b[0mresult\u001b[0m \u001b[0;34m=\u001b[0m \u001b[0mself\u001b[0m\u001b[0;34m.\u001b[0m\u001b[0m_slow_forward\u001b[0m\u001b[0;34m(\u001b[0m\u001b[0;34m*\u001b[0m\u001b[0minput\u001b[0m\u001b[0;34m,\u001b[0m \u001b[0;34m**\u001b[0m\u001b[0mkwargs\u001b[0m\u001b[0;34m)\u001b[0m\u001b[0;34m\u001b[0m\u001b[0;34m\u001b[0m\u001b[0m\n\u001b[1;32m    888\u001b[0m         \u001b[0;32melse\u001b[0m\u001b[0;34m:\u001b[0m\u001b[0;34m\u001b[0m\u001b[0;34m\u001b[0m\u001b[0m\n\u001b[0;32m--> 889\u001b[0;31m             \u001b[0mresult\u001b[0m \u001b[0;34m=\u001b[0m \u001b[0mself\u001b[0m\u001b[0;34m.\u001b[0m\u001b[0mforward\u001b[0m\u001b[0;34m(\u001b[0m\u001b[0;34m*\u001b[0m\u001b[0minput\u001b[0m\u001b[0;34m,\u001b[0m \u001b[0;34m**\u001b[0m\u001b[0mkwargs\u001b[0m\u001b[0;34m)\u001b[0m\u001b[0;34m\u001b[0m\u001b[0;34m\u001b[0m\u001b[0m\n\u001b[0m\u001b[1;32m    890\u001b[0m         for hook in itertools.chain(\n\u001b[1;32m    891\u001b[0m                 \u001b[0m_global_forward_hooks\u001b[0m\u001b[0;34m.\u001b[0m\u001b[0mvalues\u001b[0m\u001b[0;34m(\u001b[0m\u001b[0;34m)\u001b[0m\u001b[0;34m,\u001b[0m\u001b[0;34m\u001b[0m\u001b[0;34m\u001b[0m\u001b[0m\n",
            "\u001b[0;32m<ipython-input-3-399495df1b2a>\u001b[0m in \u001b[0;36mforward\u001b[0;34m(self, x, labels)\u001b[0m\n\u001b[1;32m     20\u001b[0m     \u001b[0;31m# forward method. Condition is should be incorporated to the model input\u001b[0m\u001b[0;34m\u001b[0m\u001b[0;34m\u001b[0m\u001b[0;34m\u001b[0m\u001b[0m\n\u001b[1;32m     21\u001b[0m     \u001b[0;32mdef\u001b[0m \u001b[0mforward\u001b[0m\u001b[0;34m(\u001b[0m\u001b[0mself\u001b[0m\u001b[0;34m,\u001b[0m \u001b[0mx\u001b[0m\u001b[0;34m,\u001b[0m \u001b[0mlabels\u001b[0m\u001b[0;34m)\u001b[0m\u001b[0;34m:\u001b[0m\u001b[0;34m\u001b[0m\u001b[0;34m\u001b[0m\u001b[0m\n\u001b[0;32m---> 22\u001b[0;31m         \u001b[0mz\u001b[0m \u001b[0;34m=\u001b[0m \u001b[0mx\u001b[0m\u001b[0;34m.\u001b[0m\u001b[0mview\u001b[0m\u001b[0;34m(\u001b[0m\u001b[0mx\u001b[0m\u001b[0;34m.\u001b[0m\u001b[0msize\u001b[0m\u001b[0;34m(\u001b[0m\u001b[0;36m0\u001b[0m\u001b[0;34m)\u001b[0m\u001b[0;34m,\u001b[0m \u001b[0;36m100\u001b[0m\u001b[0;34m)\u001b[0m\u001b[0;34m\u001b[0m\u001b[0;34m\u001b[0m\u001b[0m\n\u001b[0m\u001b[1;32m     23\u001b[0m         \u001b[0mc\u001b[0m \u001b[0;34m=\u001b[0m \u001b[0mself\u001b[0m\u001b[0;34m.\u001b[0m\u001b[0mlabel_emb\u001b[0m\u001b[0;34m(\u001b[0m\u001b[0mlabels\u001b[0m\u001b[0;34m)\u001b[0m\u001b[0;34m\u001b[0m\u001b[0;34m\u001b[0m\u001b[0m\n\u001b[1;32m     24\u001b[0m         \u001b[0mprint\u001b[0m\u001b[0;34m(\u001b[0m\u001b[0;34m\"x dimension\"\u001b[0m\u001b[0;34m,\u001b[0m \u001b[0mx\u001b[0m\u001b[0;34m.\u001b[0m\u001b[0mshape\u001b[0m\u001b[0;34m)\u001b[0m\u001b[0;34m\u001b[0m\u001b[0;34m\u001b[0m\u001b[0m\n",
            "\u001b[0;31mRuntimeError\u001b[0m: shape '[128, 100]' is invalid for input of size 4096"
          ]
        }
      ]
    },
    {
      "cell_type": "markdown",
      "metadata": {
        "id": "eastern-guest"
      },
      "source": [
        "## Launch Tensorboard"
      ],
      "id": "eastern-guest"
    },
    {
      "cell_type": "code",
      "metadata": {
        "id": "oriented-examination"
      },
      "source": [
        "%tensorboard --logdir ./runs"
      ],
      "id": "oriented-examination",
      "execution_count": null,
      "outputs": []
    },
    {
      "cell_type": "markdown",
      "metadata": {
        "id": "developmental-sewing"
      },
      "source": [
        "## Task 4: (Optional): Text explainer implemetation using Lime or Shap (5 bonus points)\n",
        "\n",
        "Using the [20 newsgroups](https://scikit-learn.org/0.19/datasets/twenty_newsgroups.html) text dataset is used.\n",
        "Create a simple(i.e Decision tree, Random Forest) multi-class classifier and explain the classifiers predictions with the help of LIME or SHARP. \n",
        "\n",
        "**Note:** Use TF-IDF for feature extraction"
      ],
      "id": "developmental-sewing"
    },
    {
      "cell_type": "code",
      "metadata": {
        "id": "dressed-mayor"
      },
      "source": [
        "newsgroups_train = fetch_20newsgroups(subset='train')\n",
        "newsgroups_test = fetch_20newsgroups(subset='test')\n",
        "\n",
        "clf = None"
      ],
      "id": "dressed-mayor",
      "execution_count": null,
      "outputs": []
    },
    {
      "cell_type": "markdown",
      "metadata": {
        "id": "detailed-providence"
      },
      "source": [
        "## <center>Solution should be pushed to github and link to github submitted to Moodle</center>"
      ],
      "id": "detailed-providence"
    }
  ]
}